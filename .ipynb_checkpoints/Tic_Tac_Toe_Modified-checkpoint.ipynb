{
 "cells": [
  {
   "cell_type": "markdown",
   "metadata": {},
   "source": [
    "# Tic-Tac-Toe Modified Game"
   ]
  },
  {
   "cell_type": "markdown",
   "metadata": {},
   "source": [
    "## Background Information\n",
    "Tic-Tac-Toe is well known as a strategy game where the result is guaranteed to be a draw provided that both players are experts in this game. However, this project aims to investigate the gameplay of Tic-Tac-Toe with a slight change in its rules. Namely, only three markers are available for each player. The first three moves follow the basic rule of the classic Tic-Tac-Toe game, while starting from the fourth move, each player has to relocate one of their markers on board to another empty space. This project utilizes ideas from Reinforcement Learning to determine if there is a strategy to guarantee the winning/losing/draw of the players, or, if the result of this game is at some level of randomness."
   ]
  },
  {
   "cell_type": "markdown",
   "metadata": {},
   "source": [
    "**Run this cell first**"
   ]
  },
  {
   "cell_type": "code",
   "execution_count": null,
   "metadata": {},
   "outputs": [],
   "source": [
    "from Train_AI import train_ai\n",
    "from Start_the_game import start_the_game"
   ]
  },
  {
   "cell_type": "markdown",
   "metadata": {},
   "source": [
    "**Box For Training**\n",
    "\n",
    "Notice: The game already contains a well-trained AI to play with. To save your time, you can skip this box and start playing directly."
   ]
  },
  {
   "cell_type": "code",
   "execution_count": null,
   "metadata": {
    "scrolled": false
   },
   "outputs": [],
   "source": [
    "train_ai()"
   ]
  },
  {
   "cell_type": "markdown",
   "metadata": {},
   "source": [
    "**Box For Playing**"
   ]
  },
  {
   "cell_type": "code",
   "execution_count": null,
   "metadata": {
    "scrolled": true
   },
   "outputs": [],
   "source": [
    "start_the_game()"
   ]
  },
  {
   "cell_type": "markdown",
   "metadata": {},
   "source": [
    "**Designed by: Xuewei Yan 2020-09-24**\n",
    "\n",
    "`Tel:` (858)-337-9738 `Email:` x1yan@ucsd.edu"
   ]
  }
 ],
 "metadata": {
  "kernelspec": {
   "display_name": "Python 3",
   "language": "python",
   "name": "python3"
  },
  "language_info": {
   "codemirror_mode": {
    "name": "ipython",
    "version": 3
   },
   "file_extension": ".py",
   "mimetype": "text/x-python",
   "name": "python",
   "nbconvert_exporter": "python",
   "pygments_lexer": "ipython3",
   "version": "3.7.6"
  }
 },
 "nbformat": 4,
 "nbformat_minor": 4
}
